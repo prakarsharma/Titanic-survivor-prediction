{
 "cells": [
  {
   "cell_type": "markdown",
   "metadata": {},
   "source": [
    "## data prep"
   ]
  },
  {
   "cell_type": "code",
   "execution_count": 670,
   "metadata": {
    "collapsed": true
   },
   "outputs": [],
   "source": [
    "import pandas"
   ]
  },
  {
   "cell_type": "code",
   "execution_count": 671,
   "metadata": {
    "collapsed": true
   },
   "outputs": [],
   "source": [
    "train=pandas.read_csv(\"train.csv\")"
   ]
  },
  {
   "cell_type": "code",
   "execution_count": 672,
   "metadata": {},
   "outputs": [
    {
     "data": {
      "text/plain": [
       "(891, 12)"
      ]
     },
     "execution_count": 672,
     "metadata": {},
     "output_type": "execute_result"
    }
   ],
   "source": [
    "train.shape"
   ]
  },
  {
   "cell_type": "code",
   "execution_count": 673,
   "metadata": {},
   "outputs": [
    {
     "data": {
      "text/plain": [
       "Index(['PassengerId', 'Survived', 'Pclass', 'Name', 'Sex', 'Age', 'SibSp',\n",
       "       'Parch', 'Ticket', 'Fare', 'Cabin', 'Embarked'],\n",
       "      dtype='object')"
      ]
     },
     "execution_count": 673,
     "metadata": {},
     "output_type": "execute_result"
    }
   ],
   "source": [
    "train.columns"
   ]
  },
  {
   "cell_type": "code",
   "execution_count": 674,
   "metadata": {
    "collapsed": true
   },
   "outputs": [],
   "source": [
    "dv='Survived'"
   ]
  },
  {
   "cell_type": "code",
   "execution_count": 710,
   "metadata": {},
   "outputs": [
    {
     "data": {
      "text/plain": [
       "PassengerId         int64\n",
       "Survived            int64\n",
       "Pclass              int64\n",
       "Name               object\n",
       "Sex                object\n",
       "Age               float64\n",
       "SibSp               int64\n",
       "Parch               int64\n",
       "Ticket             object\n",
       "Fare              float64\n",
       "Cabin              object\n",
       "Embarked         category\n",
       "cabinflag           int64\n",
       "deck               object\n",
       "orticket            int64\n",
       "lastname           object\n",
       "title              object\n",
       "family              int64\n",
       "fareperperson     float64\n",
       "dtype: object"
      ]
     },
     "execution_count": 710,
     "metadata": {},
     "output_type": "execute_result"
    }
   ],
   "source": [
    "train.dtypes"
   ]
  },
  {
   "cell_type": "code",
   "execution_count": 676,
   "metadata": {},
   "outputs": [
    {
     "data": {
      "text/plain": [
       "PassengerId    False\n",
       "Survived       False\n",
       "Pclass         False\n",
       "Name           False\n",
       "Sex            False\n",
       "Age             True\n",
       "SibSp          False\n",
       "Parch          False\n",
       "Ticket         False\n",
       "Fare           False\n",
       "Cabin           True\n",
       "Embarked        True\n",
       "dtype: bool"
      ]
     },
     "execution_count": 676,
     "metadata": {},
     "output_type": "execute_result"
    }
   ],
   "source": [
    "train.isnull().any()"
   ]
  },
  {
   "cell_type": "code",
   "execution_count": 677,
   "metadata": {},
   "outputs": [],
   "source": [
    "nrow=train.PassengerId.count()"
   ]
  },
  {
   "cell_type": "code",
   "execution_count": 678,
   "metadata": {},
   "outputs": [],
   "source": [
    "#nulls=train.isnull().apply(lambda x: sum(x)/nrow)"
   ]
  },
  {
   "cell_type": "code",
   "execution_count": 679,
   "metadata": {},
   "outputs": [],
   "source": [
    "#nulls=nulls.index[nulls>0.5].tolist()"
   ]
  },
  {
   "cell_type": "code",
   "execution_count": 680,
   "metadata": {
    "collapsed": true
   },
   "outputs": [],
   "source": [
    "#train2=train.drop(nulls,1)"
   ]
  },
  {
   "cell_type": "code",
   "execution_count": 681,
   "metadata": {
    "collapsed": true
   },
   "outputs": [],
   "source": [
    "#from sklearn.preprocessing import Imputer"
   ]
  },
  {
   "cell_type": "code",
   "execution_count": 682,
   "metadata": {
    "collapsed": true
   },
   "outputs": [],
   "source": [
    "#imp=Imputer(strategy='most_frequent',axis=1,copy=True)"
   ]
  },
  {
   "cell_type": "code",
   "execution_count": 683,
   "metadata": {
    "collapsed": true
   },
   "outputs": [],
   "source": [
    "#imp.transform(train2)"
   ]
  },
  {
   "cell_type": "markdown",
   "metadata": {},
   "source": [
    "# variables creation"
   ]
  },
  {
   "cell_type": "code",
   "execution_count": 684,
   "metadata": {
    "collapsed": true
   },
   "outputs": [],
   "source": [
    "train=train.assign(cabinflag=train.Cabin.notnull().astype('int64'))"
   ]
  },
  {
   "cell_type": "code",
   "execution_count": 685,
   "metadata": {
    "collapsed": true
   },
   "outputs": [],
   "source": [
    "train=train.assign(deck=train.Cabin.astype('str').apply(lambda x: x[0]))"
   ]
  },
  {
   "cell_type": "code",
   "execution_count": 686,
   "metadata": {
    "collapsed": true
   },
   "outputs": [],
   "source": [
    "train=train.assign(orticket=train.Ticket.apply(str.isnumeric).astype('int64'))"
   ]
  },
  {
   "cell_type": "code",
   "execution_count": 687,
   "metadata": {},
   "outputs": [],
   "source": [
    "train=train.assign(lastname=train.Name.apply(lambda x: x.split(\",\",1)[0]))"
   ]
  },
  {
   "cell_type": "code",
   "execution_count": 688,
   "metadata": {},
   "outputs": [],
   "source": [
    "train=train.assign(title=train.Name.apply(lambda x: x.split(\",\",1)[1].split(\".\",1)[0].strip()))"
   ]
  },
  {
   "cell_type": "code",
   "execution_count": 689,
   "metadata": {
    "collapsed": true
   },
   "outputs": [],
   "source": [
    "train=train.assign(family=train.SibSp+train.Parch)"
   ]
  },
  {
   "cell_type": "code",
   "execution_count": 690,
   "metadata": {
    "collapsed": true
   },
   "outputs": [],
   "source": [
    "train=train.assign(fareperperson=train.Fare/(train.family+1))"
   ]
  },
  {
   "cell_type": "code",
   "execution_count": 691,
   "metadata": {},
   "outputs": [],
   "source": [
    "train.loc[train.Embarked.isnull(),'Embarked']=pandas.Series(['U'],index=train[train.Embarked.isnull()].index)"
   ]
  },
  {
   "cell_type": "code",
   "execution_count": 667,
   "metadata": {
    "collapsed": true
   },
   "outputs": [],
   "source": [
    "#fare as % of median fare for class-deck"
   ]
  },
  {
   "cell_type": "code",
   "execution_count": 668,
   "metadata": {
    "collapsed": true
   },
   "outputs": [],
   "source": [
    "# travelling with spouse, parents, children or alone"
   ]
  },
  {
   "cell_type": "code",
   "execution_count": 716,
   "metadata": {
    "collapsed": true
   },
   "outputs": [],
   "source": [
    "#types of tickets"
   ]
  },
  {
   "cell_type": "code",
   "execution_count": null,
   "metadata": {
    "collapsed": true
   },
   "outputs": [],
   "source": []
  },
  {
   "cell_type": "code",
   "execution_count": null,
   "metadata": {
    "collapsed": true
   },
   "outputs": [],
   "source": []
  },
  {
   "cell_type": "markdown",
   "metadata": {},
   "source": [
    "## exploration"
   ]
  },
  {
   "cell_type": "code",
   "execution_count": 669,
   "metadata": {},
   "outputs": [
    {
     "data": {
      "text/plain": [
       "array(['Mr', 'Mrs', 'Miss', 'Master', 'Don', 'Rev', 'Dr', 'Mme', 'Ms',\n",
       "       'Major', 'Lady', 'Sir', 'Mlle', 'Col', 'Capt', 'the Countess',\n",
       "       'Jonkheer'], dtype=object)"
      ]
     },
     "execution_count": 669,
     "metadata": {},
     "output_type": "execute_result"
    }
   ],
   "source": [
    "train2.title.unique()"
   ]
  },
  {
   "cell_type": "code",
   "execution_count": 693,
   "metadata": {},
   "outputs": [
    {
     "data": {
      "text/plain": [
       "title\n",
       "Capt              1\n",
       "Col               2\n",
       "Don               1\n",
       "Dr                7\n",
       "Jonkheer          1\n",
       "Lady              1\n",
       "Major             2\n",
       "Master           40\n",
       "Miss            182\n",
       "Mlle              2\n",
       "Mme               1\n",
       "Mr              517\n",
       "Mrs             125\n",
       "Ms                1\n",
       "Rev               6\n",
       "Sir               1\n",
       "the Countess      1\n",
       "dtype: int64"
      ]
     },
     "execution_count": 693,
     "metadata": {},
     "output_type": "execute_result"
    }
   ],
   "source": [
    "train.groupby(by='title').apply(lambda x: x.shape[0])"
   ]
  },
  {
   "cell_type": "code",
   "execution_count": 694,
   "metadata": {},
   "outputs": [
    {
     "data": {
      "text/plain": [
       "Ticket\n",
       "CA. 2343    7\n",
       "1601        7\n",
       "347082      7\n",
       "347088      6\n",
       "CA 2144     6\n",
       "dtype: int64"
      ]
     },
     "execution_count": 694,
     "metadata": {},
     "output_type": "execute_result"
    }
   ],
   "source": [
    "train.groupby('Ticket').apply(lambda x: x.shape[0]).order(ascending=False).head()"
   ]
  },
  {
   "cell_type": "code",
   "execution_count": 695,
   "metadata": {},
   "outputs": [
    {
     "data": {
      "text/plain": [
       "orticket\n",
       "1    661\n",
       "0    230\n",
       "dtype: int64"
      ]
     },
     "execution_count": 695,
     "metadata": {},
     "output_type": "execute_result"
    }
   ],
   "source": [
    "train.groupby('orticket').apply(lambda x: x.shape[0]).order(ascending=False).head()"
   ]
  },
  {
   "cell_type": "code",
   "execution_count": 696,
   "metadata": {},
   "outputs": [
    {
     "data": {
      "text/plain": [
       "orticket  Pclass\n",
       "1         3         382\n",
       "          1         152\n",
       "          2         127\n",
       "0         3         109\n",
       "          1          64\n",
       "dtype: int64"
      ]
     },
     "execution_count": 696,
     "metadata": {},
     "output_type": "execute_result"
    }
   ],
   "source": [
    "train.groupby(['orticket','Pclass']).apply(lambda x: x.shape[0]).order(ascending=False).head()"
   ]
  },
  {
   "cell_type": "code",
   "execution_count": 697,
   "metadata": {},
   "outputs": [
    {
     "data": {
      "text/plain": [
       "lastname\n",
       "Andersson    9\n",
       "Sage         7\n",
       "Skoog        6\n",
       "Johnson      6\n",
       "Panula       6\n",
       "dtype: int64"
      ]
     },
     "execution_count": 697,
     "metadata": {},
     "output_type": "execute_result"
    }
   ],
   "source": [
    "train.groupby(by='lastname').apply(lambda x: x.shape[0]).order(ascending=False).head()"
   ]
  },
  {
   "cell_type": "code",
   "execution_count": 698,
   "metadata": {},
   "outputs": [
    {
     "data": {
      "text/plain": [
       "array(['Sage', 'Goodwin', 'Andersson', 'Asplund', 'Panula'], dtype=object)"
      ]
     },
     "execution_count": 698,
     "metadata": {},
     "output_type": "execute_result"
    }
   ],
   "source": [
    "train.loc[train.family.order(ascending=False).index,'lastname'].unique()[0:5]"
   ]
  },
  {
   "cell_type": "code",
   "execution_count": 699,
   "metadata": {},
   "outputs": [
    {
     "data": {
      "text/plain": [
       "Pclass\n",
       "1    176\n",
       "2     16\n",
       "3     12\n",
       "Name: Cabin, dtype: int64"
      ]
     },
     "execution_count": 699,
     "metadata": {},
     "output_type": "execute_result"
    }
   ],
   "source": [
    "train.groupby('Pclass').Cabin.count()"
   ]
  },
  {
   "cell_type": "code",
   "execution_count": 700,
   "metadata": {},
   "outputs": [
    {
     "data": {
      "text/plain": [
       "Pclass\n",
       "1    [C85, C123, E46, C103, A6, C23 C25 C27, nan, B...\n",
       "2                [nan, D56, F33, E101, F2, F4, D, E77]\n",
       "3       [nan, G6, F G73, F E69, E10, F G63, E121, F38]\n",
       "Name: Cabin, dtype: object"
      ]
     },
     "execution_count": 700,
     "metadata": {},
     "output_type": "execute_result"
    }
   ],
   "source": [
    "train.groupby('Pclass').Cabin.unique()"
   ]
  },
  {
   "cell_type": "code",
   "execution_count": 701,
   "metadata": {},
   "outputs": [
    {
     "data": {
      "text/plain": [
       "title\n",
       "Capt             1\n",
       "Col              1\n",
       "Don              0\n",
       "Dr               3\n",
       "Jonkheer         0\n",
       "Lady             1\n",
       "Major            2\n",
       "Master           7\n",
       "Miss            47\n",
       "Mlle             2\n",
       "Mme              1\n",
       "Mr              93\n",
       "Mrs             44\n",
       "Ms               0\n",
       "Rev              0\n",
       "Sir              1\n",
       "the Countess     1\n",
       "Name: Cabin, dtype: int64"
      ]
     },
     "execution_count": 701,
     "metadata": {},
     "output_type": "execute_result"
    }
   ],
   "source": [
    "train.groupby('title').Cabin.count()"
   ]
  },
  {
   "cell_type": "code",
   "execution_count": null,
   "metadata": {
    "collapsed": true
   },
   "outputs": [],
   "source": []
  },
  {
   "cell_type": "code",
   "execution_count": null,
   "metadata": {
    "collapsed": true
   },
   "outputs": [],
   "source": []
  },
  {
   "cell_type": "markdown",
   "metadata": {},
   "source": [
    "# Imputation"
   ]
  },
  {
   "cell_type": "markdown",
   "metadata": {},
   "source": [
    "#### impute age with title wise median age"
   ]
  },
  {
   "cell_type": "code",
   "execution_count": 702,
   "metadata": {
    "collapsed": true
   },
   "outputs": [],
   "source": [
    "Ageimp=train.groupby('title').Age.median()"
   ]
  },
  {
   "cell_type": "code",
   "execution_count": 703,
   "metadata": {},
   "outputs": [],
   "source": [
    "train.loc[train.Age.isnull(),'Age']=train.title.apply(lambda x: Ageimp[x])[train[train.Age.isnull()].index]"
   ]
  },
  {
   "cell_type": "code",
   "execution_count": 704,
   "metadata": {},
   "outputs": [
    {
     "data": {
      "text/plain": [
       "PassengerId      0.000000\n",
       "Survived         0.000000\n",
       "Pclass           0.000000\n",
       "Name             0.000000\n",
       "Sex              0.000000\n",
       "Age              0.000000\n",
       "SibSp            0.000000\n",
       "Parch            0.000000\n",
       "Ticket           0.000000\n",
       "Fare             0.000000\n",
       "Cabin            0.771044\n",
       "Embarked         0.000000\n",
       "cabinflag        0.000000\n",
       "deck             0.000000\n",
       "orticket         0.000000\n",
       "lastname         0.000000\n",
       "title            0.000000\n",
       "family           0.000000\n",
       "fareperperson    0.000000\n",
       "dtype: float64"
      ]
     },
     "execution_count": 704,
     "metadata": {},
     "output_type": "execute_result"
    }
   ],
   "source": [
    "train.isnull().apply(lambda x: sum(x)/nrow)"
   ]
  },
  {
   "cell_type": "code",
   "execution_count": 728,
   "metadata": {},
   "outputs": [],
   "source": [
    "train=train.assign(Sex=train.Sex.astype('category').cat.codes)"
   ]
  },
  {
   "cell_type": "code",
   "execution_count": 729,
   "metadata": {},
   "outputs": [],
   "source": [
    "train=train.assign(Embarked=train.Embarked.astype('category').cat.codes)"
   ]
  },
  {
   "cell_type": "code",
   "execution_count": 730,
   "metadata": {
    "collapsed": true
   },
   "outputs": [],
   "source": [
    "train=train.assign(deck=train.deck.astype('category').cat.codes)"
   ]
  },
  {
   "cell_type": "code",
   "execution_count": 731,
   "metadata": {
    "collapsed": true
   },
   "outputs": [],
   "source": [
    "train=train.assign(title=train.title.astype('category').cat.codes)"
   ]
  },
  {
   "cell_type": "code",
   "execution_count": null,
   "metadata": {
    "collapsed": true
   },
   "outputs": [],
   "source": []
  },
  {
   "cell_type": "code",
   "execution_count": null,
   "metadata": {
    "collapsed": true
   },
   "outputs": [],
   "source": []
  },
  {
   "cell_type": "markdown",
   "metadata": {},
   "source": [
    "# Modeling"
   ]
  },
  {
   "cell_type": "code",
   "execution_count": 733,
   "metadata": {
    "collapsed": true
   },
   "outputs": [],
   "source": [
    "dev=train.loc[:,['Pclass','Sex','Age','SibSp','Parch','Fare','Embarked','cabinflag','deck','orticket','title','family','fareperperson']]"
   ]
  },
  {
   "cell_type": "code",
   "execution_count": 734,
   "metadata": {},
   "outputs": [
    {
     "data": {
      "text/plain": [
       "(891, 13)"
      ]
     },
     "execution_count": 734,
     "metadata": {},
     "output_type": "execute_result"
    }
   ],
   "source": [
    "dev.shape"
   ]
  },
  {
   "cell_type": "code",
   "execution_count": 735,
   "metadata": {
    "collapsed": true
   },
   "outputs": [],
   "source": [
    "from sklearn.ensemble import RandomForestClassifier"
   ]
  },
  {
   "cell_type": "code",
   "execution_count": 785,
   "metadata": {
    "collapsed": true
   },
   "outputs": [],
   "source": [
    "modobj=RandomForestClassifier(random_state=111,verbose=0)"
   ]
  },
  {
   "cell_type": "code",
   "execution_count": 737,
   "metadata": {
    "collapsed": true
   },
   "outputs": [],
   "source": [
    "from sklearn.cross_validation import StratifiedKFold, StratifiedShuffleSplit"
   ]
  },
  {
   "cell_type": "code",
   "execution_count": 780,
   "metadata": {
    "collapsed": true
   },
   "outputs": [],
   "source": [
    "sss=StratifiedShuffleSplit(train.Survived.values, 5, test_size=0.2, random_state=121)"
   ]
  },
  {
   "cell_type": "code",
   "execution_count": 739,
   "metadata": {
    "collapsed": true
   },
   "outputs": [],
   "source": [
    "from sklearn.grid_search import GridSearchCV, ParameterGrid"
   ]
  },
  {
   "cell_type": "code",
   "execution_count": 786,
   "metadata": {
    "collapsed": true
   },
   "outputs": [],
   "source": [
    "GSobj=GridSearchCV(modobj,{'min_samples_leaf':[25,50],'max_depth':[3,5,7,9],'max_features':['sqrt'],'criterion':[\"gini\"],'n_estimators':[100,200,400]},\n",
    "                   scoring='accuracy',cv=sss,verbose=10000,n_jobs=-1)"
   ]
  },
  {
   "cell_type": "code",
   "execution_count": 783,
   "metadata": {},
   "outputs": [
    {
     "name": "stdout",
     "output_type": "stream",
     "text": [
      "Fitting 5 folds for each of 24 candidates, totalling 120 fits\n",
      "[CV] n_estimators=100, criterion=gini, min_samples_leaf=25, max_features=sqrt, max_depth=3 \n",
      "[CV]  n_estimators=100, criterion=gini, min_samples_leaf=25, max_features=sqrt, max_depth=3, score=0.793296 -   0.2s\n",
      "[Parallel(n_jobs=1)]: Done   1 jobs       | elapsed:    0.2s\n",
      "[CV] n_estimators=100, criterion=gini, min_samples_leaf=25, max_features=sqrt, max_depth=3 \n",
      "[CV]  n_estimators=100, criterion=gini, min_samples_leaf=25, max_features=sqrt, max_depth=3, score=0.804469 -   0.3s\n",
      "[Parallel(n_jobs=1)]: Done   2 jobs       | elapsed:    0.6s\n",
      "[CV] n_estimators=100, criterion=gini, min_samples_leaf=25, max_features=sqrt, max_depth=3 \n",
      "[CV]  n_estimators=100, criterion=gini, min_samples_leaf=25, max_features=sqrt, max_depth=3, score=0.804469 -   0.2s\n",
      "[Parallel(n_jobs=1)]: Done   3 jobs       | elapsed:    0.9s\n",
      "[CV] n_estimators=100, criterion=gini, min_samples_leaf=25, max_features=sqrt, max_depth=3 \n",
      "[CV]  n_estimators=100, criterion=gini, min_samples_leaf=25, max_features=sqrt, max_depth=3, score=0.776536 -   0.2s\n",
      "[Parallel(n_jobs=1)]: Done   4 jobs       | elapsed:    1.2s\n",
      "[CV] n_estimators=100, criterion=gini, min_samples_leaf=25, max_features=sqrt, max_depth=3 \n",
      "[CV]  n_estimators=100, criterion=gini, min_samples_leaf=25, max_features=sqrt, max_depth=3, score=0.804469 -   0.2s\n",
      "[Parallel(n_jobs=1)]: Done   5 jobs       | elapsed:    1.5s\n",
      "[CV] n_estimators=200, criterion=gini, min_samples_leaf=25, max_features=sqrt, max_depth=3 \n",
      "[CV]  n_estimators=200, criterion=gini, min_samples_leaf=25, max_features=sqrt, max_depth=3, score=0.793296 -   0.4s\n",
      "[Parallel(n_jobs=1)]: Done   6 jobs       | elapsed:    2.0s\n",
      "[CV] n_estimators=200, criterion=gini, min_samples_leaf=25, max_features=sqrt, max_depth=3 \n",
      "[CV]  n_estimators=200, criterion=gini, min_samples_leaf=25, max_features=sqrt, max_depth=3, score=0.804469 -   0.5s\n",
      "[Parallel(n_jobs=1)]: Done   7 jobs       | elapsed:    2.6s\n",
      "[CV] n_estimators=200, criterion=gini, min_samples_leaf=25, max_features=sqrt, max_depth=3 \n",
      "[CV]  n_estimators=200, criterion=gini, min_samples_leaf=25, max_features=sqrt, max_depth=3, score=0.804469 -   0.4s\n",
      "[Parallel(n_jobs=1)]: Done   8 jobs       | elapsed:    3.1s\n",
      "[CV] n_estimators=200, criterion=gini, min_samples_leaf=25, max_features=sqrt, max_depth=3 \n",
      "[CV]  n_estimators=200, criterion=gini, min_samples_leaf=25, max_features=sqrt, max_depth=3, score=0.798883 -   0.3s\n",
      "[Parallel(n_jobs=1)]: Done   9 jobs       | elapsed:    3.6s\n",
      "[CV] n_estimators=200, criterion=gini, min_samples_leaf=25, max_features=sqrt, max_depth=3 \n",
      "[CV]  n_estimators=200, criterion=gini, min_samples_leaf=25, max_features=sqrt, max_depth=3, score=0.815642 -   0.5s\n",
      "[Parallel(n_jobs=1)]: Done  10 jobs       | elapsed:    4.2s\n",
      "[CV] n_estimators=400, criterion=gini, min_samples_leaf=25, max_features=sqrt, max_depth=3 \n",
      "[CV]  n_estimators=400, criterion=gini, min_samples_leaf=25, max_features=sqrt, max_depth=3, score=0.793296 -   0.7s\n",
      "[Parallel(n_jobs=1)]: Done  11 jobs       | elapsed:    5.1s\n",
      "[CV] n_estimators=400, criterion=gini, min_samples_leaf=25, max_features=sqrt, max_depth=3 \n",
      "[CV]  n_estimators=400, criterion=gini, min_samples_leaf=25, max_features=sqrt, max_depth=3, score=0.798883 -   0.9s\n",
      "[Parallel(n_jobs=1)]: Done  12 jobs       | elapsed:    6.0s\n",
      "[CV] n_estimators=400, criterion=gini, min_samples_leaf=25, max_features=sqrt, max_depth=3 \n",
      "[CV]  n_estimators=400, criterion=gini, min_samples_leaf=25, max_features=sqrt, max_depth=3, score=0.798883 -   0.8s\n",
      "[Parallel(n_jobs=1)]: Done  13 jobs       | elapsed:    7.0s\n",
      "[CV] n_estimators=400, criterion=gini, min_samples_leaf=25, max_features=sqrt, max_depth=3 \n",
      "[CV]  n_estimators=400, criterion=gini, min_samples_leaf=25, max_features=sqrt, max_depth=3, score=0.754190 -   0.8s\n",
      "[Parallel(n_jobs=1)]: Done  14 jobs       | elapsed:    7.9s\n",
      "[CV] n_estimators=400, criterion=gini, min_samples_leaf=25, max_features=sqrt, max_depth=3 \n",
      "[CV]  n_estimators=400, criterion=gini, min_samples_leaf=25, max_features=sqrt, max_depth=3, score=0.815642 -   0.8s\n",
      "[Parallel(n_jobs=1)]: Done  15 jobs       | elapsed:    8.8s\n",
      "[CV] n_estimators=100, criterion=gini, min_samples_leaf=50, max_features=sqrt, max_depth=3 \n",
      "[CV]  n_estimators=100, criterion=gini, min_samples_leaf=50, max_features=sqrt, max_depth=3, score=0.748603 -   0.2s\n",
      "[Parallel(n_jobs=1)]: Done  16 jobs       | elapsed:    9.1s\n",
      "[CV] n_estimators=100, criterion=gini, min_samples_leaf=50, max_features=sqrt, max_depth=3 \n",
      "[CV]  n_estimators=100, criterion=gini, min_samples_leaf=50, max_features=sqrt, max_depth=3, score=0.759777 -   0.5s\n",
      "[Parallel(n_jobs=1)]: Done  17 jobs       | elapsed:    9.7s\n",
      "[CV] n_estimators=100, criterion=gini, min_samples_leaf=50, max_features=sqrt, max_depth=3 \n",
      "[CV]  n_estimators=100, criterion=gini, min_samples_leaf=50, max_features=sqrt, max_depth=3, score=0.782123 -   0.3s\n",
      "[Parallel(n_jobs=1)]: Done  18 jobs       | elapsed:   10.1s\n",
      "[CV] n_estimators=100, criterion=gini, min_samples_leaf=50, max_features=sqrt, max_depth=3 \n",
      "[CV]  n_estimators=100, criterion=gini, min_samples_leaf=50, max_features=sqrt, max_depth=3, score=0.754190 -   0.3s\n",
      "[Parallel(n_jobs=1)]: Done  19 jobs       | elapsed:   10.5s\n",
      "[CV] n_estimators=100, criterion=gini, min_samples_leaf=50, max_features=sqrt, max_depth=3 \n",
      "[CV]  n_estimators=100, criterion=gini, min_samples_leaf=50, max_features=sqrt, max_depth=3, score=0.770950 -   0.3s\n",
      "[Parallel(n_jobs=1)]: Done  20 jobs       | elapsed:   10.9s\n",
      "[CV] n_estimators=200, criterion=gini, min_samples_leaf=50, max_features=sqrt, max_depth=3 \n",
      "[CV]  n_estimators=200, criterion=gini, min_samples_leaf=50, max_features=sqrt, max_depth=3, score=0.754190 -   0.6s\n",
      "[Parallel(n_jobs=1)]: Done  21 jobs       | elapsed:   11.6s\n",
      "[CV] n_estimators=200, criterion=gini, min_samples_leaf=50, max_features=sqrt, max_depth=3 \n",
      "[CV]  n_estimators=200, criterion=gini, min_samples_leaf=50, max_features=sqrt, max_depth=3, score=0.759777 -   0.5s\n",
      "[Parallel(n_jobs=1)]: Done  22 jobs       | elapsed:   12.2s\n",
      "[CV] n_estimators=200, criterion=gini, min_samples_leaf=50, max_features=sqrt, max_depth=3 \n",
      "[CV]  n_estimators=200, criterion=gini, min_samples_leaf=50, max_features=sqrt, max_depth=3, score=0.787709 -   0.3s\n",
      "[Parallel(n_jobs=1)]: Done  23 jobs       | elapsed:   12.6s\n",
      "[CV] n_estimators=200, criterion=gini, min_samples_leaf=50, max_features=sqrt, max_depth=3 \n",
      "[CV]  n_estimators=200, criterion=gini, min_samples_leaf=50, max_features=sqrt, max_depth=3, score=0.759777 -   0.3s\n",
      "[Parallel(n_jobs=1)]: Done  24 jobs       | elapsed:   13.0s\n",
      "[CV] n_estimators=200, criterion=gini, min_samples_leaf=50, max_features=sqrt, max_depth=3 \n",
      "[CV]  n_estimators=200, criterion=gini, min_samples_leaf=50, max_features=sqrt, max_depth=3, score=0.798883 -   0.4s\n",
      "[Parallel(n_jobs=1)]: Done  25 jobs       | elapsed:   13.5s\n",
      "[CV] n_estimators=400, criterion=gini, min_samples_leaf=50, max_features=sqrt, max_depth=3 \n",
      "[CV]  n_estimators=400, criterion=gini, min_samples_leaf=50, max_features=sqrt, max_depth=3, score=0.754190 -   1.0s\n",
      "[Parallel(n_jobs=1)]: Done  26 jobs       | elapsed:   14.6s\n",
      "[CV] n_estimators=400, criterion=gini, min_samples_leaf=50, max_features=sqrt, max_depth=3 \n",
      "[CV]  n_estimators=400, criterion=gini, min_samples_leaf=50, max_features=sqrt, max_depth=3, score=0.759777 -   0.6s\n",
      "[Parallel(n_jobs=1)]: Done  27 jobs       | elapsed:   15.3s\n",
      "[CV] n_estimators=400, criterion=gini, min_samples_leaf=50, max_features=sqrt, max_depth=3 \n",
      "[CV]  n_estimators=400, criterion=gini, min_samples_leaf=50, max_features=sqrt, max_depth=3, score=0.798883 -   0.8s\n",
      "[Parallel(n_jobs=1)]: Done  28 jobs       | elapsed:   16.2s\n",
      "[CV] n_estimators=400, criterion=gini, min_samples_leaf=50, max_features=sqrt, max_depth=3 \n",
      "[CV]  n_estimators=400, criterion=gini, min_samples_leaf=50, max_features=sqrt, max_depth=3, score=0.748603 -   0.7s\n",
      "[Parallel(n_jobs=1)]: Done  29 jobs       | elapsed:   17.0s\n",
      "[CV] n_estimators=400, criterion=gini, min_samples_leaf=50, max_features=sqrt, max_depth=3 \n",
      "[CV]  n_estimators=400, criterion=gini, min_samples_leaf=50, max_features=sqrt, max_depth=3, score=0.787709 -   0.6s\n",
      "[Parallel(n_jobs=1)]: Done  30 jobs       | elapsed:   17.7s\n",
      "[CV] n_estimators=100, criterion=gini, min_samples_leaf=25, max_features=sqrt, max_depth=5 \n",
      "[CV]  n_estimators=100, criterion=gini, min_samples_leaf=25, max_features=sqrt, max_depth=5, score=0.782123 -   0.3s\n",
      "[Parallel(n_jobs=1)]: Done  31 jobs       | elapsed:   18.1s\n",
      "[CV] n_estimators=100, criterion=gini, min_samples_leaf=25, max_features=sqrt, max_depth=5 \n",
      "[CV]  n_estimators=100, criterion=gini, min_samples_leaf=25, max_features=sqrt, max_depth=5, score=0.826816 -   0.3s\n",
      "[Parallel(n_jobs=1)]: Done  32 jobs       | elapsed:   18.4s\n",
      "[CV] n_estimators=100, criterion=gini, min_samples_leaf=25, max_features=sqrt, max_depth=5 \n",
      "[CV]  n_estimators=100, criterion=gini, min_samples_leaf=25, max_features=sqrt, max_depth=5, score=0.810056 -   0.2s\n",
      "[Parallel(n_jobs=1)]: Done  33 jobs       | elapsed:   18.7s\n",
      "[CV] n_estimators=100, criterion=gini, min_samples_leaf=25, max_features=sqrt, max_depth=5 \n",
      "[CV]  n_estimators=100, criterion=gini, min_samples_leaf=25, max_features=sqrt, max_depth=5, score=0.810056 -   0.3s\n",
      "[Parallel(n_jobs=1)]: Done  34 jobs       | elapsed:   19.1s\n",
      "[CV] n_estimators=100, criterion=gini, min_samples_leaf=25, max_features=sqrt, max_depth=5 \n",
      "[CV]  n_estimators=100, criterion=gini, min_samples_leaf=25, max_features=sqrt, max_depth=5, score=0.810056 -   0.2s\n",
      "[Parallel(n_jobs=1)]: Done  35 jobs       | elapsed:   19.5s\n",
      "[CV] n_estimators=200, criterion=gini, min_samples_leaf=25, max_features=sqrt, max_depth=5 \n",
      "[CV]  n_estimators=200, criterion=gini, min_samples_leaf=25, max_features=sqrt, max_depth=5, score=0.782123 -   0.4s\n",
      "[Parallel(n_jobs=1)]: Done  36 jobs       | elapsed:   20.0s\n",
      "[CV] n_estimators=200, criterion=gini, min_samples_leaf=25, max_features=sqrt, max_depth=5 \n",
      "[CV]  n_estimators=200, criterion=gini, min_samples_leaf=25, max_features=sqrt, max_depth=5, score=0.821229 -   0.3s\n",
      "[Parallel(n_jobs=1)]: Done  37 jobs       | elapsed:   20.4s\n",
      "[CV] n_estimators=200, criterion=gini, min_samples_leaf=25, max_features=sqrt, max_depth=5 \n",
      "[CV]  n_estimators=200, criterion=gini, min_samples_leaf=25, max_features=sqrt, max_depth=5, score=0.815642 -   0.3s\n",
      "[Parallel(n_jobs=1)]: Done  38 jobs       | elapsed:   20.8s\n",
      "[CV] n_estimators=200, criterion=gini, min_samples_leaf=25, max_features=sqrt, max_depth=5 \n",
      "[CV]  n_estimators=200, criterion=gini, min_samples_leaf=25, max_features=sqrt, max_depth=5, score=0.815642 -   0.4s\n",
      "[Parallel(n_jobs=1)]: Done  39 jobs       | elapsed:   21.3s\n",
      "[CV] n_estimators=200, criterion=gini, min_samples_leaf=25, max_features=sqrt, max_depth=5 \n",
      "[CV]  n_estimators=200, criterion=gini, min_samples_leaf=25, max_features=sqrt, max_depth=5, score=0.810056 -   0.3s\n",
      "[Parallel(n_jobs=1)]: Done  40 jobs       | elapsed:   21.7s\n",
      "[CV] n_estimators=400, criterion=gini, min_samples_leaf=25, max_features=sqrt, max_depth=5 \n",
      "[CV]  n_estimators=400, criterion=gini, min_samples_leaf=25, max_features=sqrt, max_depth=5, score=0.787709 -   0.7s\n",
      "[Parallel(n_jobs=1)]: Done  41 jobs       | elapsed:   22.5s\n",
      "[CV] n_estimators=400, criterion=gini, min_samples_leaf=25, max_features=sqrt, max_depth=5 \n",
      "[CV]  n_estimators=400, criterion=gini, min_samples_leaf=25, max_features=sqrt, max_depth=5, score=0.810056 -   0.7s\n",
      "[Parallel(n_jobs=1)]: Done  42 jobs       | elapsed:   23.3s\n",
      "[CV] n_estimators=400, criterion=gini, min_samples_leaf=25, max_features=sqrt, max_depth=5 \n",
      "[CV]  n_estimators=400, criterion=gini, min_samples_leaf=25, max_features=sqrt, max_depth=5, score=0.810056 -   0.7s\n",
      "[Parallel(n_jobs=1)]: Done  43 jobs       | elapsed:   24.1s\n",
      "[CV] n_estimators=400, criterion=gini, min_samples_leaf=25, max_features=sqrt, max_depth=5 \n",
      "[CV]  n_estimators=400, criterion=gini, min_samples_leaf=25, max_features=sqrt, max_depth=5, score=0.804469 -   1.4s\n",
      "[Parallel(n_jobs=1)]: Done  44 jobs       | elapsed:   25.7s\n",
      "[CV] n_estimators=400, criterion=gini, min_samples_leaf=25, max_features=sqrt, max_depth=5 \n",
      "[CV]  n_estimators=400, criterion=gini, min_samples_leaf=25, max_features=sqrt, max_depth=5, score=0.793296 -   0.9s\n",
      "[Parallel(n_jobs=1)]: Done  45 jobs       | elapsed:   26.7s\n",
      "[CV] n_estimators=100, criterion=gini, min_samples_leaf=50, max_features=sqrt, max_depth=5 \n",
      "[CV]  n_estimators=100, criterion=gini, min_samples_leaf=50, max_features=sqrt, max_depth=5, score=0.737430 -   0.3s\n",
      "[Parallel(n_jobs=1)]: Done  46 jobs       | elapsed:   27.0s\n",
      "[CV] n_estimators=100, criterion=gini, min_samples_leaf=50, max_features=sqrt, max_depth=5 \n",
      "[CV]  n_estimators=100, criterion=gini, min_samples_leaf=50, max_features=sqrt, max_depth=5, score=0.754190 -   0.4s\n",
      "[Parallel(n_jobs=1)]: Done  47 jobs       | elapsed:   27.6s\n",
      "[CV] n_estimators=100, criterion=gini, min_samples_leaf=50, max_features=sqrt, max_depth=5 \n",
      "[CV]  n_estimators=100, criterion=gini, min_samples_leaf=50, max_features=sqrt, max_depth=5, score=0.793296 -   0.2s\n",
      "[Parallel(n_jobs=1)]: Done  48 jobs       | elapsed:   27.9s\n",
      "[CV] n_estimators=100, criterion=gini, min_samples_leaf=50, max_features=sqrt, max_depth=5 \n",
      "[CV]  n_estimators=100, criterion=gini, min_samples_leaf=50, max_features=sqrt, max_depth=5, score=0.782123 -   0.2s\n",
      "[Parallel(n_jobs=1)]: Done  49 jobs       | elapsed:   28.2s\n",
      "[CV] n_estimators=100, criterion=gini, min_samples_leaf=50, max_features=sqrt, max_depth=5 \n",
      "[CV]  n_estimators=100, criterion=gini, min_samples_leaf=50, max_features=sqrt, max_depth=5, score=0.793296 -   0.2s\n",
      "[Parallel(n_jobs=1)]: Done  50 jobs       | elapsed:   28.5s\n",
      "[CV] n_estimators=200, criterion=gini, min_samples_leaf=50, max_features=sqrt, max_depth=5 \n",
      "[CV]  n_estimators=200, criterion=gini, min_samples_leaf=50, max_features=sqrt, max_depth=5, score=0.754190 -   0.4s\n",
      "[Parallel(n_jobs=1)]: Done  51 jobs       | elapsed:   29.0s\n",
      "[CV] n_estimators=200, criterion=gini, min_samples_leaf=50, max_features=sqrt, max_depth=5 \n",
      "[CV]  n_estimators=200, criterion=gini, min_samples_leaf=50, max_features=sqrt, max_depth=5, score=0.765363 -   0.3s\n",
      "[Parallel(n_jobs=1)]: Done  52 jobs       | elapsed:   29.4s\n",
      "[CV] n_estimators=200, criterion=gini, min_samples_leaf=50, max_features=sqrt, max_depth=5 \n",
      "[CV]  n_estimators=200, criterion=gini, min_samples_leaf=50, max_features=sqrt, max_depth=5, score=0.793296 -   0.4s\n",
      "[Parallel(n_jobs=1)]: Done  53 jobs       | elapsed:   29.9s\n",
      "[CV] n_estimators=200, criterion=gini, min_samples_leaf=50, max_features=sqrt, max_depth=5 \n",
      "[CV]  n_estimators=200, criterion=gini, min_samples_leaf=50, max_features=sqrt, max_depth=5, score=0.765363 -   0.3s\n",
      "[Parallel(n_jobs=1)]: Done  54 jobs       | elapsed:   30.3s\n",
      "[CV] n_estimators=200, criterion=gini, min_samples_leaf=50, max_features=sqrt, max_depth=5 \n",
      "[CV]  n_estimators=200, criterion=gini, min_samples_leaf=50, max_features=sqrt, max_depth=5, score=0.793296 -   0.5s\n",
      "[Parallel(n_jobs=1)]: Done  55 jobs       | elapsed:   31.0s\n",
      "[CV] n_estimators=400, criterion=gini, min_samples_leaf=50, max_features=sqrt, max_depth=5 \n",
      "[CV]  n_estimators=400, criterion=gini, min_samples_leaf=50, max_features=sqrt, max_depth=5, score=0.754190 -   1.1s\n",
      "[Parallel(n_jobs=1)]: Done  56 jobs       | elapsed:   32.1s\n",
      "[CV] n_estimators=400, criterion=gini, min_samples_leaf=50, max_features=sqrt, max_depth=5 \n",
      "[CV]  n_estimators=400, criterion=gini, min_samples_leaf=50, max_features=sqrt, max_depth=5, score=0.759777 -   0.8s\n",
      "[Parallel(n_jobs=1)]: Done  57 jobs       | elapsed:   33.1s\n",
      "[CV] n_estimators=400, criterion=gini, min_samples_leaf=50, max_features=sqrt, max_depth=5 \n",
      "[CV]  n_estimators=400, criterion=gini, min_samples_leaf=50, max_features=sqrt, max_depth=5, score=0.798883 -   0.7s\n",
      "[Parallel(n_jobs=1)]: Done  58 jobs       | elapsed:   33.9s\n",
      "[CV] n_estimators=400, criterion=gini, min_samples_leaf=50, max_features=sqrt, max_depth=5 \n",
      "[CV]  n_estimators=400, criterion=gini, min_samples_leaf=50, max_features=sqrt, max_depth=5, score=0.748603 -   0.8s\n",
      "[Parallel(n_jobs=1)]: Done  59 jobs       | elapsed:   34.8s\n",
      "[CV] n_estimators=400, criterion=gini, min_samples_leaf=50, max_features=sqrt, max_depth=5 \n",
      "[CV]  n_estimators=400, criterion=gini, min_samples_leaf=50, max_features=sqrt, max_depth=5, score=0.798883 -   0.7s\n",
      "[Parallel(n_jobs=1)]: Done  60 jobs       | elapsed:   35.6s\n",
      "[CV] n_estimators=100, criterion=gini, min_samples_leaf=25, max_features=sqrt, max_depth=7 \n",
      "[CV]  n_estimators=100, criterion=gini, min_samples_leaf=25, max_features=sqrt, max_depth=7, score=0.793296 -   0.2s\n",
      "[Parallel(n_jobs=1)]: Done  61 jobs       | elapsed:   35.9s\n",
      "[CV] n_estimators=100, criterion=gini, min_samples_leaf=25, max_features=sqrt, max_depth=7 \n",
      "[CV]  n_estimators=100, criterion=gini, min_samples_leaf=25, max_features=sqrt, max_depth=7, score=0.821229 -   0.3s\n",
      "[Parallel(n_jobs=1)]: Done  62 jobs       | elapsed:   36.3s\n",
      "[CV] n_estimators=100, criterion=gini, min_samples_leaf=25, max_features=sqrt, max_depth=7 \n",
      "[CV]  n_estimators=100, criterion=gini, min_samples_leaf=25, max_features=sqrt, max_depth=7, score=0.798883 -   0.2s\n",
      "[Parallel(n_jobs=1)]: Done  63 jobs       | elapsed:   36.6s\n",
      "[CV] n_estimators=100, criterion=gini, min_samples_leaf=25, max_features=sqrt, max_depth=7 \n",
      "[CV]  n_estimators=100, criterion=gini, min_samples_leaf=25, max_features=sqrt, max_depth=7, score=0.810056 -   0.2s\n",
      "[Parallel(n_jobs=1)]: Done  64 jobs       | elapsed:   37.0s\n",
      "[CV] n_estimators=100, criterion=gini, min_samples_leaf=25, max_features=sqrt, max_depth=7 \n",
      "[CV]  n_estimators=100, criterion=gini, min_samples_leaf=25, max_features=sqrt, max_depth=7, score=0.810056 -   0.3s\n",
      "[Parallel(n_jobs=1)]: Done  65 jobs       | elapsed:   37.4s\n",
      "[CV] n_estimators=200, criterion=gini, min_samples_leaf=25, max_features=sqrt, max_depth=7 \n",
      "[CV]  n_estimators=200, criterion=gini, min_samples_leaf=25, max_features=sqrt, max_depth=7, score=0.787709 -   0.4s\n",
      "[Parallel(n_jobs=1)]: Done  66 jobs       | elapsed:   37.9s\n",
      "[CV] n_estimators=200, criterion=gini, min_samples_leaf=25, max_features=sqrt, max_depth=7 \n",
      "[CV]  n_estimators=200, criterion=gini, min_samples_leaf=25, max_features=sqrt, max_depth=7, score=0.821229 -   0.3s\n",
      "[Parallel(n_jobs=1)]: Done  67 jobs       | elapsed:   38.3s\n",
      "[CV] n_estimators=200, criterion=gini, min_samples_leaf=25, max_features=sqrt, max_depth=7 \n",
      "[CV]  n_estimators=200, criterion=gini, min_samples_leaf=25, max_features=sqrt, max_depth=7, score=0.815642 -   0.4s\n",
      "[Parallel(n_jobs=1)]: Done  68 jobs       | elapsed:   38.8s\n",
      "[CV] n_estimators=200, criterion=gini, min_samples_leaf=25, max_features=sqrt, max_depth=7 \n",
      "[CV]  n_estimators=200, criterion=gini, min_samples_leaf=25, max_features=sqrt, max_depth=7, score=0.815642 -   0.3s\n",
      "[Parallel(n_jobs=1)]: Done  69 jobs       | elapsed:   39.1s\n",
      "[CV] n_estimators=200, criterion=gini, min_samples_leaf=25, max_features=sqrt, max_depth=7 \n",
      "[CV]  n_estimators=200, criterion=gini, min_samples_leaf=25, max_features=sqrt, max_depth=7, score=0.804469 -   0.5s\n",
      "[Parallel(n_jobs=1)]: Done  70 jobs       | elapsed:   39.7s\n",
      "[CV] n_estimators=400, criterion=gini, min_samples_leaf=25, max_features=sqrt, max_depth=7 \n",
      "[CV]  n_estimators=400, criterion=gini, min_samples_leaf=25, max_features=sqrt, max_depth=7, score=0.782123 -   0.6s\n",
      "[Parallel(n_jobs=1)]: Done  71 jobs       | elapsed:   40.4s\n",
      "[CV] n_estimators=400, criterion=gini, min_samples_leaf=25, max_features=sqrt, max_depth=7 \n",
      "[CV]  n_estimators=400, criterion=gini, min_samples_leaf=25, max_features=sqrt, max_depth=7, score=0.815642 -   0.7s\n",
      "[Parallel(n_jobs=1)]: Done  72 jobs       | elapsed:   41.3s\n",
      "[CV] n_estimators=400, criterion=gini, min_samples_leaf=25, max_features=sqrt, max_depth=7 \n",
      "[CV]  n_estimators=400, criterion=gini, min_samples_leaf=25, max_features=sqrt, max_depth=7, score=0.810056 -   0.7s\n",
      "[Parallel(n_jobs=1)]: Done  73 jobs       | elapsed:   42.1s\n",
      "[CV] n_estimators=400, criterion=gini, min_samples_leaf=25, max_features=sqrt, max_depth=7 \n",
      "[CV]  n_estimators=400, criterion=gini, min_samples_leaf=25, max_features=sqrt, max_depth=7, score=0.804469 -   0.6s\n",
      "[Parallel(n_jobs=1)]: Done  74 jobs       | elapsed:   42.7s\n",
      "[CV] n_estimators=400, criterion=gini, min_samples_leaf=25, max_features=sqrt, max_depth=7 \n",
      "[CV]  n_estimators=400, criterion=gini, min_samples_leaf=25, max_features=sqrt, max_depth=7, score=0.804469 -   0.5s\n",
      "[Parallel(n_jobs=1)]: Done  75 jobs       | elapsed:   43.4s\n",
      "[CV] n_estimators=100, criterion=gini, min_samples_leaf=50, max_features=sqrt, max_depth=7 \n",
      "[CV]  n_estimators=100, criterion=gini, min_samples_leaf=50, max_features=sqrt, max_depth=7, score=0.737430 -   0.2s\n",
      "[Parallel(n_jobs=1)]: Done  76 jobs       | elapsed:   43.7s\n",
      "[CV] n_estimators=100, criterion=gini, min_samples_leaf=50, max_features=sqrt, max_depth=7 \n",
      "[CV]  n_estimators=100, criterion=gini, min_samples_leaf=50, max_features=sqrt, max_depth=7, score=0.754190 -   0.2s\n",
      "[Parallel(n_jobs=1)]: Done  77 jobs       | elapsed:   44.0s\n",
      "[CV] n_estimators=100, criterion=gini, min_samples_leaf=50, max_features=sqrt, max_depth=7 \n",
      "[CV]  n_estimators=100, criterion=gini, min_samples_leaf=50, max_features=sqrt, max_depth=7, score=0.793296 -   0.3s\n",
      "[Parallel(n_jobs=1)]: Done  78 jobs       | elapsed:   44.4s\n",
      "[CV] n_estimators=100, criterion=gini, min_samples_leaf=50, max_features=sqrt, max_depth=7 \n",
      "[CV]  n_estimators=100, criterion=gini, min_samples_leaf=50, max_features=sqrt, max_depth=7, score=0.782123 -   0.3s\n",
      "[Parallel(n_jobs=1)]: Done  79 jobs       | elapsed:   44.8s\n",
      "[CV] n_estimators=100, criterion=gini, min_samples_leaf=50, max_features=sqrt, max_depth=7 \n",
      "[CV]  n_estimators=100, criterion=gini, min_samples_leaf=50, max_features=sqrt, max_depth=7, score=0.793296 -   0.2s\n",
      "[Parallel(n_jobs=1)]: Done  80 jobs       | elapsed:   45.2s\n",
      "[CV] n_estimators=200, criterion=gini, min_samples_leaf=50, max_features=sqrt, max_depth=7 \n",
      "[CV]  n_estimators=200, criterion=gini, min_samples_leaf=50, max_features=sqrt, max_depth=7, score=0.754190 -   0.6s\n",
      "[Parallel(n_jobs=1)]: Done  81 jobs       | elapsed:   45.9s\n",
      "[CV] n_estimators=200, criterion=gini, min_samples_leaf=50, max_features=sqrt, max_depth=7 \n",
      "[CV]  n_estimators=200, criterion=gini, min_samples_leaf=50, max_features=sqrt, max_depth=7, score=0.765363 -   0.3s\n",
      "[Parallel(n_jobs=1)]: Done  82 jobs       | elapsed:   46.3s\n",
      "[CV] n_estimators=200, criterion=gini, min_samples_leaf=50, max_features=sqrt, max_depth=7 \n",
      "[CV]  n_estimators=200, criterion=gini, min_samples_leaf=50, max_features=sqrt, max_depth=7, score=0.793296 -   0.4s\n",
      "[Parallel(n_jobs=1)]: Done  83 jobs       | elapsed:   46.8s\n",
      "[CV] n_estimators=200, criterion=gini, min_samples_leaf=50, max_features=sqrt, max_depth=7 \n",
      "[CV]  n_estimators=200, criterion=gini, min_samples_leaf=50, max_features=sqrt, max_depth=7, score=0.765363 -   0.3s\n",
      "[Parallel(n_jobs=1)]: Done  84 jobs       | elapsed:   47.2s\n",
      "[CV] n_estimators=200, criterion=gini, min_samples_leaf=50, max_features=sqrt, max_depth=7 \n",
      "[CV]  n_estimators=200, criterion=gini, min_samples_leaf=50, max_features=sqrt, max_depth=7, score=0.793296 -   0.2s\n",
      "[Parallel(n_jobs=1)]: Done  85 jobs       | elapsed:   47.5s\n",
      "[CV] n_estimators=400, criterion=gini, min_samples_leaf=50, max_features=sqrt, max_depth=7 \n",
      "[CV]  n_estimators=400, criterion=gini, min_samples_leaf=50, max_features=sqrt, max_depth=7, score=0.754190 -   0.6s\n",
      "[Parallel(n_jobs=1)]: Done  86 jobs       | elapsed:   48.3s\n",
      "[CV] n_estimators=400, criterion=gini, min_samples_leaf=50, max_features=sqrt, max_depth=7 \n",
      "[CV]  n_estimators=400, criterion=gini, min_samples_leaf=50, max_features=sqrt, max_depth=7, score=0.759777 -   0.6s\n",
      "[Parallel(n_jobs=1)]: Done  87 jobs       | elapsed:   49.0s\n",
      "[CV] n_estimators=400, criterion=gini, min_samples_leaf=50, max_features=sqrt, max_depth=7 \n",
      "[CV]  n_estimators=400, criterion=gini, min_samples_leaf=50, max_features=sqrt, max_depth=7, score=0.798883 -   0.9s\n",
      "[Parallel(n_jobs=1)]: Done  88 jobs       | elapsed:   50.0s\n",
      "[CV] n_estimators=400, criterion=gini, min_samples_leaf=50, max_features=sqrt, max_depth=7 \n",
      "[CV]  n_estimators=400, criterion=gini, min_samples_leaf=50, max_features=sqrt, max_depth=7, score=0.748603 -   0.7s\n",
      "[Parallel(n_jobs=1)]: Done  89 jobs       | elapsed:   50.8s\n",
      "[CV] n_estimators=400, criterion=gini, min_samples_leaf=50, max_features=sqrt, max_depth=7 \n",
      "[CV]  n_estimators=400, criterion=gini, min_samples_leaf=50, max_features=sqrt, max_depth=7, score=0.798883 -   0.6s\n",
      "[Parallel(n_jobs=1)]: Done  90 jobs       | elapsed:   51.5s\n",
      "[CV] n_estimators=100, criterion=gini, min_samples_leaf=25, max_features=sqrt, max_depth=9 \n",
      "[CV]  n_estimators=100, criterion=gini, min_samples_leaf=25, max_features=sqrt, max_depth=9, score=0.793296 -   0.3s\n",
      "[Parallel(n_jobs=1)]: Done  91 jobs       | elapsed:   51.9s\n",
      "[CV] n_estimators=100, criterion=gini, min_samples_leaf=25, max_features=sqrt, max_depth=9 \n",
      "[CV]  n_estimators=100, criterion=gini, min_samples_leaf=25, max_features=sqrt, max_depth=9, score=0.821229 -   0.3s\n",
      "[Parallel(n_jobs=1)]: Done  92 jobs       | elapsed:   52.3s\n",
      "[CV] n_estimators=100, criterion=gini, min_samples_leaf=25, max_features=sqrt, max_depth=9 \n",
      "[CV]  n_estimators=100, criterion=gini, min_samples_leaf=25, max_features=sqrt, max_depth=9, score=0.804469 -   0.4s\n",
      "[Parallel(n_jobs=1)]: Done  93 jobs       | elapsed:   52.8s\n",
      "[CV] n_estimators=100, criterion=gini, min_samples_leaf=25, max_features=sqrt, max_depth=9 \n",
      "[CV]  n_estimators=100, criterion=gini, min_samples_leaf=25, max_features=sqrt, max_depth=9, score=0.810056 -   0.3s\n",
      "[Parallel(n_jobs=1)]: Done  94 jobs       | elapsed:   53.2s\n",
      "[CV] n_estimators=100, criterion=gini, min_samples_leaf=25, max_features=sqrt, max_depth=9 \n",
      "[CV]  n_estimators=100, criterion=gini, min_samples_leaf=25, max_features=sqrt, max_depth=9, score=0.804469 -   0.3s\n",
      "[Parallel(n_jobs=1)]: Done  95 jobs       | elapsed:   53.6s\n",
      "[CV] n_estimators=200, criterion=gini, min_samples_leaf=25, max_features=sqrt, max_depth=9 \n",
      "[CV]  n_estimators=200, criterion=gini, min_samples_leaf=25, max_features=sqrt, max_depth=9, score=0.787709 -   0.3s\n",
      "[Parallel(n_jobs=1)]: Done  96 jobs       | elapsed:   54.0s\n",
      "[CV] n_estimators=200, criterion=gini, min_samples_leaf=25, max_features=sqrt, max_depth=9 \n",
      "[CV]  n_estimators=200, criterion=gini, min_samples_leaf=25, max_features=sqrt, max_depth=9, score=0.821229 -   0.4s\n",
      "[Parallel(n_jobs=1)]: Done  97 jobs       | elapsed:   54.6s\n",
      "[CV] n_estimators=200, criterion=gini, min_samples_leaf=25, max_features=sqrt, max_depth=9 \n",
      "[CV]  n_estimators=200, criterion=gini, min_samples_leaf=25, max_features=sqrt, max_depth=9, score=0.815642 -   0.4s\n",
      "[Parallel(n_jobs=1)]: Done  98 jobs       | elapsed:   55.1s\n",
      "[CV] n_estimators=200, criterion=gini, min_samples_leaf=25, max_features=sqrt, max_depth=9 \n",
      "[CV]  n_estimators=200, criterion=gini, min_samples_leaf=25, max_features=sqrt, max_depth=9, score=0.815642 -   0.4s\n",
      "[Parallel(n_jobs=1)]: Done  99 jobs       | elapsed:   55.6s\n",
      "[CV] n_estimators=200, criterion=gini, min_samples_leaf=25, max_features=sqrt, max_depth=9 \n",
      "[CV]  n_estimators=200, criterion=gini, min_samples_leaf=25, max_features=sqrt, max_depth=9, score=0.810056 -   0.3s\n",
      "[Parallel(n_jobs=1)]: Done 100 jobs       | elapsed:   56.1s\n",
      "[CV] n_estimators=400, criterion=gini, min_samples_leaf=25, max_features=sqrt, max_depth=9 \n",
      "[CV]  n_estimators=400, criterion=gini, min_samples_leaf=25, max_features=sqrt, max_depth=9, score=0.793296 -   0.5s\n",
      "[Parallel(n_jobs=1)]: Done 101 jobs       | elapsed:   56.6s\n",
      "[CV] n_estimators=400, criterion=gini, min_samples_leaf=25, max_features=sqrt, max_depth=9 \n",
      "[CV]  n_estimators=400, criterion=gini, min_samples_leaf=25, max_features=sqrt, max_depth=9, score=0.815642 -   0.7s\n",
      "[Parallel(n_jobs=1)]: Done 102 jobs       | elapsed:   57.4s\n",
      "[CV] n_estimators=400, criterion=gini, min_samples_leaf=25, max_features=sqrt, max_depth=9 \n",
      "[CV]  n_estimators=400, criterion=gini, min_samples_leaf=25, max_features=sqrt, max_depth=9, score=0.810056 -   0.7s\n",
      "[Parallel(n_jobs=1)]: Done 103 jobs       | elapsed:   58.3s\n",
      "[CV] n_estimators=400, criterion=gini, min_samples_leaf=25, max_features=sqrt, max_depth=9 \n",
      "[CV]  n_estimators=400, criterion=gini, min_samples_leaf=25, max_features=sqrt, max_depth=9, score=0.804469 -   0.7s\n",
      "[Parallel(n_jobs=1)]: Done 104 jobs       | elapsed:   59.1s\n",
      "[CV] n_estimators=400, criterion=gini, min_samples_leaf=25, max_features=sqrt, max_depth=9 \n",
      "[CV]  n_estimators=400, criterion=gini, min_samples_leaf=25, max_features=sqrt, max_depth=9, score=0.798883 -   0.7s\n",
      "[Parallel(n_jobs=1)]: Done 105 jobs       | elapsed:   59.9s\n",
      "[CV] n_estimators=100, criterion=gini, min_samples_leaf=50, max_features=sqrt, max_depth=9 \n",
      "[CV]  n_estimators=100, criterion=gini, min_samples_leaf=50, max_features=sqrt, max_depth=9, score=0.737430 -   0.3s\n",
      "[Parallel(n_jobs=1)]: Done 106 jobs       | elapsed:  1.0min\n",
      "[CV] n_estimators=100, criterion=gini, min_samples_leaf=50, max_features=sqrt, max_depth=9 \n",
      "[CV]  n_estimators=100, criterion=gini, min_samples_leaf=50, max_features=sqrt, max_depth=9, score=0.754190 -   0.3s\n",
      "[Parallel(n_jobs=1)]: Done 107 jobs       | elapsed:  1.0min\n",
      "[CV] n_estimators=100, criterion=gini, min_samples_leaf=50, max_features=sqrt, max_depth=9 \n",
      "[CV]  n_estimators=100, criterion=gini, min_samples_leaf=50, max_features=sqrt, max_depth=9, score=0.793296 -   0.2s\n",
      "[Parallel(n_jobs=1)]: Done 108 jobs       | elapsed:  1.0min\n",
      "[CV] n_estimators=100, criterion=gini, min_samples_leaf=50, max_features=sqrt, max_depth=9 \n",
      "[CV]  n_estimators=100, criterion=gini, min_samples_leaf=50, max_features=sqrt, max_depth=9, score=0.782123 -   0.3s\n",
      "[Parallel(n_jobs=1)]: Done 109 jobs       | elapsed:  1.0min\n",
      "[CV] n_estimators=100, criterion=gini, min_samples_leaf=50, max_features=sqrt, max_depth=9 \n",
      "[CV]  n_estimators=100, criterion=gini, min_samples_leaf=50, max_features=sqrt, max_depth=9, score=0.793296 -   0.3s\n",
      "[Parallel(n_jobs=1)]: Done 110 jobs       | elapsed:  1.0min\n",
      "[CV] n_estimators=200, criterion=gini, min_samples_leaf=50, max_features=sqrt, max_depth=9 \n",
      "[CV]  n_estimators=200, criterion=gini, min_samples_leaf=50, max_features=sqrt, max_depth=9, score=0.754190 -   0.9s\n",
      "[Parallel(n_jobs=1)]: Done 111 jobs       | elapsed:  1.0min\n",
      "[CV] n_estimators=200, criterion=gini, min_samples_leaf=50, max_features=sqrt, max_depth=9 \n",
      "[CV]  n_estimators=200, criterion=gini, min_samples_leaf=50, max_features=sqrt, max_depth=9, score=0.765363 -   0.4s\n",
      "[Parallel(n_jobs=1)]: Done 112 jobs       | elapsed:  1.1min\n",
      "[CV] n_estimators=200, criterion=gini, min_samples_leaf=50, max_features=sqrt, max_depth=9 \n",
      "[CV]  n_estimators=200, criterion=gini, min_samples_leaf=50, max_features=sqrt, max_depth=9, score=0.793296 -   0.4s\n",
      "[Parallel(n_jobs=1)]: Done 113 jobs       | elapsed:  1.1min\n",
      "[CV] n_estimators=200, criterion=gini, min_samples_leaf=50, max_features=sqrt, max_depth=9 \n",
      "[CV]  n_estimators=200, criterion=gini, min_samples_leaf=50, max_features=sqrt, max_depth=9, score=0.765363 -   0.4s\n",
      "[Parallel(n_jobs=1)]: Done 114 jobs       | elapsed:  1.1min\n",
      "[CV] n_estimators=200, criterion=gini, min_samples_leaf=50, max_features=sqrt, max_depth=9 \n",
      "[CV]  n_estimators=200, criterion=gini, min_samples_leaf=50, max_features=sqrt, max_depth=9, score=0.793296 -   0.3s\n",
      "[Parallel(n_jobs=1)]: Done 115 jobs       | elapsed:  1.1min\n",
      "[CV] n_estimators=400, criterion=gini, min_samples_leaf=50, max_features=sqrt, max_depth=9 \n",
      "[CV]  n_estimators=400, criterion=gini, min_samples_leaf=50, max_features=sqrt, max_depth=9, score=0.754190 -   0.6s\n",
      "[Parallel(n_jobs=1)]: Done 116 jobs       | elapsed:  1.1min\n",
      "[CV] n_estimators=400, criterion=gini, min_samples_leaf=50, max_features=sqrt, max_depth=9 \n",
      "[CV]  n_estimators=400, criterion=gini, min_samples_leaf=50, max_features=sqrt, max_depth=9, score=0.759777 -   0.7s\n",
      "[Parallel(n_jobs=1)]: Done 117 jobs       | elapsed:  1.1min\n",
      "[CV] n_estimators=400, criterion=gini, min_samples_leaf=50, max_features=sqrt, max_depth=9 \n",
      "[CV]  n_estimators=400, criterion=gini, min_samples_leaf=50, max_features=sqrt, max_depth=9, score=0.798883 -   0.6s\n",
      "[Parallel(n_jobs=1)]: Done 118 jobs       | elapsed:  1.1min\n",
      "[CV] n_estimators=400, criterion=gini, min_samples_leaf=50, max_features=sqrt, max_depth=9 \n",
      "[CV]  n_estimators=400, criterion=gini, min_samples_leaf=50, max_features=sqrt, max_depth=9, score=0.748603 -   0.6s\n",
      "[Parallel(n_jobs=1)]: Done 119 jobs       | elapsed:  1.1min\n",
      "[CV] n_estimators=400, criterion=gini, min_samples_leaf=50, max_features=sqrt, max_depth=9 \n",
      "[CV]  n_estimators=400, criterion=gini, min_samples_leaf=50, max_features=sqrt, max_depth=9, score=0.798883 -   0.6s\n",
      "[Parallel(n_jobs=1)]: Done 120 jobs       | elapsed:  1.1min\n",
      "[Parallel(n_jobs=1)]: Done 120 out of 120 | elapsed:  1.1min finished\n"
     ]
    },
    {
     "data": {
      "text/plain": [
       "GridSearchCV(cv=StratifiedShuffleSplit(labels=[0 1 ..., 1 0], n_iter=5, test_size=0.2, random_state=121),\n",
       "       error_score='raise',\n",
       "       estimator=RandomForestClassifier(bootstrap=True, class_weight=None, criterion='gini',\n",
       "            max_depth=None, max_features='auto', max_leaf_nodes=None,\n",
       "            min_samples_leaf=1, min_samples_split=2,\n",
       "            min_weight_fraction_leaf=0.0, n_estimators=10, n_jobs=-1,\n",
       "            oob_score=False, random_state=111, verbose=0, warm_start=False),\n",
       "       fit_params={}, iid=True, loss_func=None, n_jobs=1,\n",
       "       param_grid={'n_estimators': [100, 200, 400], 'criterion': ['gini'], 'min_samples_leaf': [25, 50], 'max_features': ['sqrt'], 'max_depth': [3, 5, 7, 9]},\n",
       "       pre_dispatch='2*n_jobs', refit=True, score_func=None,\n",
       "       scoring='accuracy', verbose=120)"
      ]
     },
     "execution_count": 783,
     "metadata": {},
     "output_type": "execute_result"
    }
   ],
   "source": [
    "GSobj.fit(dev,train.Survived.values)"
   ]
  },
  {
   "cell_type": "code",
   "execution_count": 784,
   "metadata": {},
   "outputs": [
    {
     "data": {
      "text/plain": [
       "0.81005586592178769"
      ]
     },
     "execution_count": 784,
     "metadata": {},
     "output_type": "execute_result"
    }
   ],
   "source": [
    "GSobj.best_score_"
   ]
  },
  {
   "cell_type": "code",
   "execution_count": null,
   "metadata": {
    "collapsed": true
   },
   "outputs": [],
   "source": []
  },
  {
   "cell_type": "code",
   "execution_count": null,
   "metadata": {
    "collapsed": true
   },
   "outputs": [],
   "source": []
  },
  {
   "cell_type": "code",
   "execution_count": null,
   "metadata": {
    "collapsed": true
   },
   "outputs": [],
   "source": []
  }
 ],
 "metadata": {
  "kernelspec": {
   "display_name": "Python 3",
   "language": "python",
   "name": "python3"
  },
  "language_info": {
   "codemirror_mode": {
    "name": "ipython",
    "version": 3
   },
   "file_extension": ".py",
   "mimetype": "text/x-python",
   "name": "python",
   "nbconvert_exporter": "python",
   "pygments_lexer": "ipython3",
   "version": "3.4.3"
  }
 },
 "nbformat": 4,
 "nbformat_minor": 1
}
